{
 "cells": [
  {
   "cell_type": "code",
   "execution_count": 1,
   "id": "603be963",
   "metadata": {},
   "outputs": [
    {
     "name": "stdout",
     "output_type": "stream",
     "text": [
      "The Answer is =  66\n"
     ]
    }
   ],
   "source": [
    "# Add Values in List\n",
    "\n",
    "Val1 = [23, 56, 78 , 100, 150]\n",
    "Val2 = [5, 10, 15, 20, 25]\n",
    "Calc1 = Val1[1] + Val2[1]\n",
    "print(\"The Answer is = \", Calc1)"
   ]
  },
  {
   "cell_type": "code",
   "execution_count": 7,
   "id": "70aa1170",
   "metadata": {},
   "outputs": [
    {
     "name": "stdout",
     "output_type": "stream",
     "text": [
      "['apple', 'banana', 'mango']\n"
     ]
    }
   ],
   "source": [
    "fruits = [\"apple\", \"banana\", \"cherry\", \"kiwi\", \"mango\"]\n",
    "\n",
    "newlist = [x for x in fruits if \"a\" in x]\n",
    "\n",
    "print(newlist)\n"
   ]
  },
  {
   "cell_type": "code",
   "execution_count": null,
   "id": "a8195fec",
   "metadata": {},
   "outputs": [],
   "source": []
  }
 ],
 "metadata": {
  "kernelspec": {
   "display_name": "Python 3 (ipykernel)",
   "language": "python",
   "name": "python3"
  },
  "language_info": {
   "codemirror_mode": {
    "name": "ipython",
    "version": 3
   },
   "file_extension": ".py",
   "mimetype": "text/x-python",
   "name": "python",
   "nbconvert_exporter": "python",
   "pygments_lexer": "ipython3",
   "version": "3.9.12"
  }
 },
 "nbformat": 4,
 "nbformat_minor": 5
}
