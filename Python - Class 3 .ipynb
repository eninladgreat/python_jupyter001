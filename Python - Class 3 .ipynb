{
 "cells": [
  {
   "cell_type": "code",
   "execution_count": 41,
   "id": "68915d42",
   "metadata": {},
   "outputs": [
    {
     "name": "stdout",
     "output_type": "stream",
     "text": [
      "True\n",
      "True\n"
     ]
    }
   ],
   "source": [
    "# Python Logical Operators\n",
    "\n",
    "# AND, OR and NOT\n",
    "\n",
    "# x < 4 and x > 10\n",
    "\n",
    "# When you run the logical operator without an IF Statement it returns \n",
    "# a TRUE or FALSE response\n",
    "\n",
    "# IF x < 20 and y > 20\n",
    "\n",
    "\n",
    "# Identity Operators\n",
    "\n",
    "# IS or IS NOT\n",
    "\n",
    "# X is Y\n",
    "# X is not Y\n",
    "\n",
    "list1 = [12, 90, 50]\n",
    "list2 = [12, 89, 50]\n",
    "list3 = list1\n",
    "list4 = list2\n",
    "\n",
    "print(list3 is list1)\n",
    "print(list4 is list2)"
   ]
  },
  {
   "cell_type": "code",
   "execution_count": 38,
   "id": "f748464c",
   "metadata": {},
   "outputs": [
    {
     "name": "stdout",
     "output_type": "stream",
     "text": [
      "True\n"
     ]
    }
   ],
   "source": [
    "list1 = [\"First\", \"Second\"]\n",
    "list2 = [\"First\", \"Second\"]\n",
    "list1 = list2\n",
    "\n",
    "print(list1 is list2)"
   ]
  },
  {
   "cell_type": "code",
   "execution_count": null,
   "id": "f311687d",
   "metadata": {},
   "outputs": [],
   "source": [
    "# Python Membership Operators\n",
    "\n",
    "IN, NOT IN"
   ]
  },
  {
   "cell_type": "code",
   "execution_count": 47,
   "id": "e536962e",
   "metadata": {},
   "outputs": [
    {
     "name": "stdout",
     "output_type": "stream",
     "text": [
      "True\n"
     ]
    }
   ],
   "source": [
    "newval = [\"Apple\", \"Banana\", \"Orange\"]\n",
    "print(\"Orange\" in newval)"
   ]
  },
  {
   "cell_type": "code",
   "execution_count": 50,
   "id": "b7b041d5",
   "metadata": {},
   "outputs": [
    {
     "name": "stdout",
     "output_type": "stream",
     "text": [
      "False\n",
      "Banana\n",
      "Orange\n"
     ]
    }
   ],
   "source": [
    "newval = [\"Apple\", \"Banana\", \"Orange\"]\n",
    "print(\"Orange\" not in newval)\n",
    "print(newval[1])\n",
    "print(newval[2])"
   ]
  },
  {
   "cell_type": "code",
   "execution_count": null,
   "id": "9b4ec952",
   "metadata": {},
   "outputs": [],
   "source": [
    "# Python Collections - Array\n",
    "\n",
    "'''There are 4 Collection data types in the Python Programming:\n",
    "\n",
    "   1. List - is a collection which is ordered and it is changeable. \n",
    "      It allows duplicate values.\n",
    "\n",
    "   2. Tuple - is a collection which is ordered and unchangeable. \n",
    "      It allows duplicates.\n",
    "\n",
    "   3. Set - is a collection, which is unordered, unchangeable, it is \n",
    "      unidexed. No duplicate members.\n",
    "\n",
    "   4. Dictionary - is a collection, which is ordered; it is changeable. \n",
    "      No duplicate members.\n",
    "'''"
   ]
  },
  {
   "cell_type": "code",
   "execution_count": 54,
   "id": "2a33787a",
   "metadata": {},
   "outputs": [
    {
     "name": "stdout",
     "output_type": "stream",
     "text": [
      "['Samuel', 'Paul', 'Peter', 'Emeka', 'Ayomide', 'Ayomide']\n",
      "Samuel\n",
      "Paul\n",
      "Peter\n",
      "Emeka\n",
      "Ayomide\n",
      "Ayomide\n"
     ]
    }
   ],
   "source": [
    "mylist = ['Samuel', 'Paul', 'Peter', 'Emeka', 'Ayomide', 'Ayomide']\n",
    "print(mylist)\n",
    "\n",
    "print(mylist[0])\n",
    "print(mylist[1])\n",
    "print(mylist[2])\n",
    "print(mylist[3])\n",
    "print(mylist[4])\n",
    "print(mylist[5])"
   ]
  },
  {
   "cell_type": "code",
   "execution_count": 58,
   "id": "7968331e",
   "metadata": {},
   "outputs": [
    {
     "name": "stdout",
     "output_type": "stream",
     "text": [
      "Ayomide\n",
      "Emeka\n",
      "Emeka\n"
     ]
    }
   ],
   "source": [
    "mylist = ['Samuel', 'Paul', 'Peter', 'Emeka', 'Ayomide', 'Ayomide']\n",
    "\n",
    "print(mylist[-1])\n",
    "print(mylist[-3])\n",
    "print(mylist[3])\n"
   ]
  },
  {
   "cell_type": "code",
   "execution_count": 63,
   "id": "7cc4896b",
   "metadata": {},
   "outputs": [
    {
     "name": "stdout",
     "output_type": "stream",
     "text": [
      "['Peter']\n",
      "['Emeka', 'Folabi', 'Ayomide']\n"
     ]
    }
   ],
   "source": [
    "mylist = ['Samuel', 'Paul', 'Peter', 'Emeka', 'Folabi', 'Ayomide']\n",
    "\n",
    "print(mylist[2:3])\n",
    "print(mylist[3:6])"
   ]
  },
  {
   "cell_type": "code",
   "execution_count": 69,
   "id": "a67b0f71",
   "metadata": {},
   "outputs": [
    {
     "name": "stdout",
     "output_type": "stream",
     "text": [
      "No, Peter is not in the list\n"
     ]
    }
   ],
   "source": [
    "#If we want to check that a value exist\n",
    "\n",
    "mylist = ['Samuel', 'Paul', 'Emeka', 'Folabi', 'Ayomide']\n",
    "if \"Peter\" in mylist:\n",
    "    print(\"Yes, Peter is in the list\")\n",
    "elif \"Peter\" not in mylist:\n",
    "    print(\"No, Peter is not in the list\")"
   ]
  },
  {
   "cell_type": "code",
   "execution_count": null,
   "id": "0cc1e41c",
   "metadata": {},
   "outputs": [],
   "source": []
  }
 ],
 "metadata": {
  "kernelspec": {
   "display_name": "Python 3 (ipykernel)",
   "language": "python",
   "name": "python3"
  },
  "language_info": {
   "codemirror_mode": {
    "name": "ipython",
    "version": 3
   },
   "file_extension": ".py",
   "mimetype": "text/x-python",
   "name": "python",
   "nbconvert_exporter": "python",
   "pygments_lexer": "ipython3",
   "version": "3.9.12"
  }
 },
 "nbformat": 4,
 "nbformat_minor": 5
}
