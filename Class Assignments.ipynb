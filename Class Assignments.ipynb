{
 "cells": [
  {
   "cell_type": "code",
   "execution_count": null,
   "id": "3bde5be5",
   "metadata": {},
   "outputs": [],
   "source": [
    "#Assignment\n",
    "\n",
    "# Write a Python programme that will add \n",
    "# 2 numbers and subtract one number from the result\n",
    "\n",
    "# Variable num1 = 10, num2 = 5, num3 = 4\n",
    "# Print your result with a text -- \"My result =\"\n",
    "\n",
    "#Next Assignment\n",
    "\n",
    "# Write a Python Programme that will display a result such as \n",
    "\n",
    "# I want to Pay 500 Naira for 20 Pieces of Item 20\n",
    "\n",
    "'''Where your variable will state:\n",
    "    Qty = 20\n",
    "    Price = 500\n",
    "    ItemNo = 20\n",
    "'''\n",
    "\n",
    "# Hint: use Format method\n",
    "\n",
    "# Assignment 3\n",
    "\n",
    "#listnum1 = [10, 20, 30, 40, 50] #List\n",
    "#listnum2 = [5, 10, 15, 20,25]\n",
    "\n",
    "'''Create 2 lists as given above. Calculate by adding a value in list1\n",
    "to a value in list2. Index 3 from list 1 and index 2 from list2'''\n",
    "\n",
    "#Sum1 = listnum1[3] + listnum2[2]\n",
    "#print(Sum1)\n"
   ]
  }
 ],
 "metadata": {
  "kernelspec": {
   "display_name": "Python 3 (ipykernel)",
   "language": "python",
   "name": "python3"
  },
  "language_info": {
   "codemirror_mode": {
    "name": "ipython",
    "version": 3
   },
   "file_extension": ".py",
   "mimetype": "text/x-python",
   "name": "python",
   "nbconvert_exporter": "python",
   "pygments_lexer": "ipython3",
   "version": "3.9.12"
  }
 },
 "nbformat": 4,
 "nbformat_minor": 5
}
