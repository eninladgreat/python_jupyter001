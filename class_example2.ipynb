{
 "cells": [
  {
   "cell_type": "code",
   "execution_count": 1,
   "id": "ba5a254a",
   "metadata": {},
   "outputs": [
    {
     "name": "stdout",
     "output_type": "stream",
     "text": [
      "Hello Class!\n"
     ]
    }
   ],
   "source": [
    "#This is a Comment\n",
    "print(\"Hello Class!\")"
   ]
  },
  {
   "cell_type": "code",
   "execution_count": 4,
   "id": "61644276",
   "metadata": {},
   "outputs": [
    {
     "name": "stdout",
     "output_type": "stream",
     "text": [
      "10 20 30 40\n"
     ]
    }
   ],
   "source": [
    "#Comments are used to make our code readable\n",
    "#Comments can be used to prevent execution of code\n",
    "#a1=10\n",
    "b1=20\n",
    "#a2=30\n",
    "b2=40\n",
    "print(a1,b1,a2,b2)"
   ]
  },
  {
   "cell_type": "code",
   "execution_count": 11,
   "id": "f856dd48",
   "metadata": {},
   "outputs": [
    {
     "name": "stdout",
     "output_type": "stream",
     "text": [
      "20 40 10\n"
     ]
    }
   ],
   "source": [
    "#Comments can be used to prevent execution of code\n",
    "f1=10\n",
    "e1=20\n",
    "f2=30\n",
    "e2=40\n",
    "print(e1,e2,f1)"
   ]
  },
  {
   "cell_type": "code",
   "execution_count": 14,
   "id": "fc78c505",
   "metadata": {},
   "outputs": [
    {
     "name": "stdout",
     "output_type": "stream",
     "text": [
      "My comment won't print\n"
     ]
    }
   ],
   "source": [
    "#Multi Line Comment\n",
    "#Comment1\n",
    "#Comment2\n",
    "\n",
    "\"\"\"\n",
    "This is a multi line comment \n",
    "written in more than one line\n",
    "comment\n",
    "\"\"\"\n",
    "\n",
    "print(\"My comment won't print\")"
   ]
  },
  {
   "cell_type": "code",
   "execution_count": 15,
   "id": "7bad2b8d",
   "metadata": {},
   "outputs": [
    {
     "name": "stdout",
     "output_type": "stream",
     "text": [
      "5\n",
      "John\n"
     ]
    }
   ],
   "source": [
    "#LESSON 2 - PYTHON VARIABLES\n",
    "\n",
    "# Variable declaration\n",
    "x = 5 # this int\n",
    "y = \"John\" # this is string\n",
    "print(x)\n",
    "print(y)"
   ]
  },
  {
   "cell_type": "code",
   "execution_count": 16,
   "id": "8dc7cf9e",
   "metadata": {},
   "outputs": [
    {
     "name": "stdout",
     "output_type": "stream",
     "text": [
      "5\n",
      "John\n"
     ]
    }
   ],
   "source": [
    "a = 5 # this int\n",
    "A = \"John\" # this is string\n",
    "print(a)\n",
    "print(A)\n",
    "\n",
    "#Python is Case sensitive"
   ]
  },
  {
   "cell_type": "code",
   "execution_count": null,
   "id": "8367b9a7",
   "metadata": {},
   "outputs": [],
   "source": [
    "age = 12\n",
    "carname = \"Toyota\"\n",
    "\n",
    "_global = 120\n"
   ]
  }
 ],
 "metadata": {
  "kernelspec": {
   "display_name": "Python 3 (ipykernel)",
   "language": "python",
   "name": "python3"
  },
  "language_info": {
   "codemirror_mode": {
    "name": "ipython",
    "version": 3
   },
   "file_extension": ".py",
   "mimetype": "text/x-python",
   "name": "python",
   "nbconvert_exporter": "python",
   "pygments_lexer": "ipython3",
   "version": "3.9.12"
  }
 },
 "nbformat": 4,
 "nbformat_minor": 5
}
