{
 "cells": [
  {
   "cell_type": "code",
   "execution_count": 2,
   "id": "9105f326",
   "metadata": {},
   "outputs": [
    {
     "name": "stdout",
     "output_type": "stream",
     "text": [
      "34\n",
      "35\n",
      "78\n",
      "100\n",
      "200\n",
      "Abraham\n"
     ]
    }
   ],
   "source": [
    "age = 12\n",
    "carname = \"Toyota\"\n",
    "\n",
    "_global = 120\n",
    "\n",
    "myval = 34\n",
    "my_val = 35\n",
    "_my_value = 78\n",
    "myVal = 100\n",
    "MYVAL = 200\n",
    "myname = \"Abraham\"\n",
    "print(myval)\n",
    "print(my_val)\n",
    "print(_my_value)\n",
    "print(myVal)\n",
    "print(MYVAL)\n",
    "print(myname)"
   ]
  },
  {
   "cell_type": "code",
   "execution_count": 6,
   "id": "8b48df56",
   "metadata": {},
   "outputs": [
    {
     "name": "stdout",
     "output_type": "stream",
     "text": [
      "Abraham Eninla\n",
      "Lagos, Nigeria\n"
     ]
    }
   ],
   "source": [
    "#Multi Words Variable Names\n",
    "\n",
    "myVariableName = \"Abraham Eninla\"  #carmel case\n",
    "print(myVariableName)\n",
    "\n",
    "my_variable_name = \"Lagos, Nigeria\"  #snake case\n",
    "print(my_variable_name)"
   ]
  },
  {
   "cell_type": "code",
   "execution_count": 8,
   "id": "10c3311f",
   "metadata": {},
   "outputs": [
    {
     "name": "stdout",
     "output_type": "stream",
     "text": [
      "James\n",
      "Paul\n",
      "Peter\n",
      "James Paul Peter\n"
     ]
    }
   ],
   "source": [
    "#Assigning Multiple Values\n",
    "\n",
    "x, y, z = \"James\", \"Paul\", \"Peter\"\n",
    "print(x)\n",
    "print(y)\n",
    "print(z)\n",
    "\n",
    "print(x,y,z)"
   ]
  },
  {
   "cell_type": "code",
   "execution_count": 9,
   "id": "60194191",
   "metadata": {},
   "outputs": [
    {
     "name": "stdout",
     "output_type": "stream",
     "text": [
      "Apple\n",
      "Mango\n",
      "Banana\n"
     ]
    }
   ],
   "source": [
    "#Assigning Multiple Values\n",
    "\n",
    "#Unpack a list - is just like extract data or values into variable\n",
    "\n",
    "fruits =[\"Apple\",\"Mango\",\"Banana\"]\n",
    "x, y, z = fruits\n",
    "print(x)\n",
    "print(y)\n",
    "print(z)"
   ]
  },
  {
   "cell_type": "code",
   "execution_count": 11,
   "id": "66c0d156",
   "metadata": {},
   "outputs": [
    {
     "name": "stdout",
     "output_type": "stream",
     "text": [
      "Lesson One Python\n"
     ]
    }
   ],
   "source": [
    "#Python - Output of Variables\n",
    "\n",
    "#we simply use the PRINT command to output our values\n",
    "\n",
    "x = \"Lesson \"\n",
    "y = \"One \"\n",
    "z = \"Python\"\n",
    "\n",
    "print(x + y + z)\n",
    "\n",
    "#The plus sign is used to concatenate values in Python"
   ]
  },
  {
   "cell_type": "code",
   "execution_count": 14,
   "id": "055ce0d7",
   "metadata": {},
   "outputs": [
    {
     "name": "stdout",
     "output_type": "stream",
     "text": [
      "95\n"
     ]
    }
   ],
   "source": [
    "a = 45\n",
    "b = 50\n",
    "print(a + b)"
   ]
  },
  {
   "cell_type": "code",
   "execution_count": 16,
   "id": "79aba904",
   "metadata": {},
   "outputs": [
    {
     "name": "stdout",
     "output_type": "stream",
     "text": [
      "10 string\n"
     ]
    }
   ],
   "source": [
    "g = 10\n",
    "h = \"string\"\n",
    "print(g, h)"
   ]
  },
  {
   "cell_type": "code",
   "execution_count": 28,
   "id": "d79ec2ba",
   "metadata": {},
   "outputs": [
    {
     "name": "stdout",
     "output_type": "stream",
     "text": [
      "Python is Great\n",
      "10\n",
      "100\n",
      "10\n"
     ]
    }
   ],
   "source": [
    "#Global Variables\n",
    "\n",
    "y = \"Great\"\n",
    "x = 100\n",
    "\n",
    "def myfunc():\n",
    "    print(\"Python is \" + y)\n",
    "b = 10    \n",
    "myfunc()\n",
    "\n",
    "print(b)\n",
    "\n",
    "def myfunc2():\n",
    "    print(x)\n",
    "    print(b)\n",
    "myfunc2()"
   ]
  },
  {
   "cell_type": "code",
   "execution_count": null,
   "id": "e875fe79",
   "metadata": {},
   "outputs": [],
   "source": [
    "Tuples\n",
    "List\n",
    "Dictionary"
   ]
  }
 ],
 "metadata": {
  "kernelspec": {
   "display_name": "Python 3 (ipykernel)",
   "language": "python",
   "name": "python3"
  },
  "language_info": {
   "codemirror_mode": {
    "name": "ipython",
    "version": 3
   },
   "file_extension": ".py",
   "mimetype": "text/x-python",
   "name": "python",
   "nbconvert_exporter": "python",
   "pygments_lexer": "ipython3",
   "version": "3.9.12"
  }
 },
 "nbformat": 4,
 "nbformat_minor": 5
}
