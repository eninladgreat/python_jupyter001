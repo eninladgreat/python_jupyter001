{
 "cells": [
  {
   "cell_type": "code",
   "execution_count": 1,
   "id": "54b297db",
   "metadata": {},
   "outputs": [
    {
     "name": "stdout",
     "output_type": "stream",
     "text": [
      "12\n",
      "13\n"
     ]
    }
   ],
   "source": [
    "if 10 > 20:\n",
    "    print(\"Ten is Less than twenty\")\n",
    "    \n",
    "# Comments are part of the executables in python\n",
    "\n",
    "\"\"\" \n",
    "This is a multiple line\n",
    "comments that can go\n",
    "beyond a single line\n",
    "\"\"\"\n",
    "\n",
    "# VARIABLE IN PYTHON\n",
    "\n",
    "x = 12\n",
    "y = 13\n",
    "z = \"Abraham\"\n",
    "print(x)\n",
    "print(y)\n",
    "\n"
   ]
  },
  {
   "cell_type": "code",
   "execution_count": 2,
   "id": "f264227d",
   "metadata": {},
   "outputs": [
    {
     "name": "stdout",
     "output_type": "stream",
     "text": [
      "<class 'int'>\n"
     ]
    }
   ],
   "source": [
    "print(type(x))"
   ]
  },
  {
   "cell_type": "code",
   "execution_count": 4,
   "id": "b3f107c2",
   "metadata": {},
   "outputs": [
    {
     "name": "stdout",
     "output_type": "stream",
     "text": [
      "<class 'str'>\n"
     ]
    }
   ],
   "source": [
    "z = \"Abraham\"\n",
    "print(type(z))"
   ]
  },
  {
   "cell_type": "code",
   "execution_count": 5,
   "id": "d2a3ba00",
   "metadata": {},
   "outputs": [
    {
     "name": "stdout",
     "output_type": "stream",
     "text": [
      "3\n",
      "3\n",
      "3.0\n"
     ]
    }
   ],
   "source": [
    "# Casting\n",
    "\n",
    "x = str(3)\n",
    "y = int(3)\n",
    "z = float(3)\n",
    "\n",
    "print(x)\n",
    "print(y)\n",
    "print(z)"
   ]
  },
  {
   "cell_type": "code",
   "execution_count": 6,
   "id": "93f7a1d3",
   "metadata": {},
   "outputs": [
    {
     "name": "stdout",
     "output_type": "stream",
     "text": [
      "Michael\n",
      "Paul\n",
      "James\n"
     ]
    }
   ],
   "source": [
    "x, y, z = \"Michael\", \"Paul\", \"James\"\n",
    "print(x)\n",
    "print(y)\n",
    "print(z)"
   ]
  },
  {
   "cell_type": "code",
   "execution_count": 7,
   "id": "4382faf5",
   "metadata": {},
   "outputs": [
    {
     "name": "stdout",
     "output_type": "stream",
     "text": [
      "Michael\n",
      "Michael\n",
      "Michael\n"
     ]
    }
   ],
   "source": [
    "x = y = z = \"Michael\"\n",
    "print(x)\n",
    "print(y)\n",
    "print(z)"
   ]
  },
  {
   "cell_type": "code",
   "execution_count": null,
   "id": "64d81522",
   "metadata": {},
   "outputs": [],
   "source": [
    "# Python Data Type\n",
    "\n",
    "# Text Type - String - e.g \"Samuel\", \n",
    "\n",
    "# Numeric Type - Int e.g 10, Float e.g 10.4 and Complex -negative\n",
    "\n",
    "# Boolean Type - TRUE or FALSE,\n",
    "\n",
    "# Binary Type - Bytes and memoryview\n",
    "\n",
    "# None Type - for Null value - NoneType\n",
    "\n",
    "# Sequence Type - List, Tuple and Range \n"
   ]
  },
  {
   "cell_type": "code",
   "execution_count": 11,
   "id": "d8856dc2",
   "metadata": {},
   "outputs": [
    {
     "name": "stdout",
     "output_type": "stream",
     "text": [
      "20j\n"
     ]
    }
   ],
   "source": [
    "x = 20j\n",
    "\n",
    "print(x)"
   ]
  },
  {
   "cell_type": "code",
   "execution_count": 20,
   "id": "e2c40adb",
   "metadata": {},
   "outputs": [
    {
     "name": "stdout",
     "output_type": "stream",
     "text": [
      "Mango\n"
     ]
    }
   ],
   "source": [
    "fruits = [\"Apple\", \"Banana\", \"Orange\", \"Mango\"] #List\n",
    "print(fruits[3])"
   ]
  },
  {
   "cell_type": "code",
   "execution_count": null,
   "id": "c40de76b",
   "metadata": {},
   "outputs": [],
   "source": [
    "# Indexing starts from Zero - 0, 1, 2, 3"
   ]
  },
  {
   "cell_type": "code",
   "execution_count": 21,
   "id": "750e0b11",
   "metadata": {},
   "outputs": [
    {
     "name": "stdout",
     "output_type": "stream",
     "text": [
      "<class 'NoneType'>\n"
     ]
    }
   ],
   "source": [
    "fruits = (\"Apple\", \"Banana\", \"Orange\", \"Mango\") # tuple\n",
    "\n",
    "# Dict\n",
    "\n",
    "x = {\"Name\" : \"James\", \"Age\" : 36}\n",
    "\n",
    "y = None\n",
    "\n",
    "print(type(y))"
   ]
  },
  {
   "cell_type": "code",
   "execution_count": 22,
   "id": "ece8d2bb",
   "metadata": {},
   "outputs": [
    {
     "name": "stdout",
     "output_type": "stream",
     "text": [
      "Out of Order\n",
      "This is a multi Variable\n",
      "The multiline accepts strings as multiple line of text\n",
      "You can add as many as line as you want. It just like\n",
      "typing a note or memo or something sha...\n",
      "\n"
     ]
    }
   ],
   "source": [
    "# String - Multiline Strings\n",
    "\n",
    "d = 'Out of Order'\n",
    "\n",
    "e = \"\"\"This is a multi Variable\n",
    "The multiline accepts strings as multiple line of text\n",
    "You can add as many as line as you want. It just like\n",
    "typing a note or memo or something sha...\n",
    "\"\"\"\n",
    "print(d)\n",
    "print(e)"
   ]
  },
  {
   "cell_type": "code",
   "execution_count": 23,
   "id": "f44292b2",
   "metadata": {},
   "outputs": [
    {
     "name": "stdout",
     "output_type": "stream",
     "text": [
      "HELLO, WORLD\n"
     ]
    }
   ],
   "source": [
    "# Modify String\n",
    "\n",
    "# Upper  #Lower\n",
    "\n",
    "text1 = \"Hello, World\"\n",
    "print(text1.upper())"
   ]
  },
  {
   "cell_type": "code",
   "execution_count": 24,
   "id": "e1452be3",
   "metadata": {},
   "outputs": [
    {
     "name": "stdout",
     "output_type": "stream",
     "text": [
      "hello, world\n"
     ]
    }
   ],
   "source": [
    "text2 = \"HELLO, WORLD\"\n",
    "print(text2.lower())"
   ]
  },
  {
   "cell_type": "code",
   "execution_count": 31,
   "id": "5d0d879d",
   "metadata": {},
   "outputs": [
    {
     "name": "stdout",
     "output_type": "stream",
     "text": [
      "Mobolaji Johnson\n"
     ]
    }
   ],
   "source": [
    "text3 = \"     Mobolaji Johnson\"\n",
    "print(text3.strip())"
   ]
  },
  {
   "cell_type": "code",
   "execution_count": 33,
   "id": "50a81f41",
   "metadata": {},
   "outputs": [
    {
     "name": "stdout",
     "output_type": "stream",
     "text": [
      "20\n"
     ]
    }
   ],
   "source": [
    "text4 = \"Emmanuel Chukwuemeka\"\n",
    "print(len(text4))"
   ]
  },
  {
   "cell_type": "code",
   "execution_count": 36,
   "id": "80673231",
   "metadata": {},
   "outputs": [
    {
     "name": "stdout",
     "output_type": "stream",
     "text": [
      "Yello! Paul\n"
     ]
    }
   ],
   "source": [
    "text5 = \"Hello! Paul\"\n",
    "print(text5.replace(\"H\", \"Y\"))"
   ]
  },
  {
   "cell_type": "code",
   "execution_count": 39,
   "id": "d3cb427e",
   "metadata": {},
   "outputs": [
    {
     "name": "stdout",
     "output_type": "stream",
     "text": [
      "('EmmanuelPutin is', 41)\n"
     ]
    }
   ],
   "source": [
    "# Concatenating Strings\n",
    "\n",
    "text6 = \"Emmanuel\"\n",
    "text7 = \"Putin is\"\n",
    "age = 41\n",
    "txtjoin = text6 + text7, age\n",
    "print(txtjoin)\n"
   ]
  },
  {
   "cell_type": "code",
   "execution_count": 46,
   "id": "e67e355b",
   "metadata": {},
   "outputs": [
    {
     "name": "stdout",
     "output_type": "stream",
     "text": [
      "Emmanuel Putin is 41\n"
     ]
    }
   ],
   "source": [
    "age = 41\n",
    "mytxt = \"Emmanuel Putin is {}\"\n",
    "print(mytxt.format(age))"
   ]
  },
  {
   "cell_type": "code",
   "execution_count": 47,
   "id": "48fd6966",
   "metadata": {},
   "outputs": [
    {
     "name": "stdout",
     "output_type": "stream",
     "text": [
      "I want 10 pieces of item 201 for 560.23 Naira\n"
     ]
    }
   ],
   "source": [
    "Quantity = 10\n",
    "Itemno = 201\n",
    "Price = 560.23\n",
    "myOrder = \"I want {} pieces of item {} for {} Naira\"\n",
    "print(myOrder.format(Quantity, Itemno, Price))"
   ]
  },
  {
   "cell_type": "code",
   "execution_count": 50,
   "id": "49b3ee6b",
   "metadata": {},
   "outputs": [
    {
     "name": "stdout",
     "output_type": "stream",
     "text": [
      "I want to pay 1560.23 Naira for 12 pieces of item 223\n"
     ]
    }
   ],
   "source": [
    "Qty = 12\n",
    "No = 223\n",
    "Amount = 1560.23\n",
    "myOrder2 = \"I want to pay {2} Naira for {0} pieces of item {1}\"\n",
    "print(myOrder2.format(Qty, No, Amount))"
   ]
  },
  {
   "cell_type": "code",
   "execution_count": 51,
   "id": "d804515f",
   "metadata": {},
   "outputs": [
    {
     "name": "stdout",
     "output_type": "stream",
     "text": [
      "1\n"
     ]
    }
   ],
   "source": [
    "# Python Operators\n",
    "\n",
    "# Arithmetic Operators\n",
    "# Assignment Operators\n",
    "# Comparison Operators\n",
    "# Logical Operators\n",
    "# Identity Operators\n",
    "# Membership Operators\n",
    "\n",
    "\n",
    "#Modulus %  x % y\n",
    "y = 10\n",
    "x = 3\n",
    "\n",
    "print(y % x)"
   ]
  },
  {
   "cell_type": "code",
   "execution_count": 52,
   "id": "40809c64",
   "metadata": {},
   "outputs": [
    {
     "name": "stdout",
     "output_type": "stream",
     "text": [
      "100\n"
     ]
    }
   ],
   "source": [
    "# Exponentiation\n",
    "\n",
    "a = 10\n",
    "b = 2\n",
    "print(a ** b)"
   ]
  },
  {
   "cell_type": "code",
   "execution_count": null,
   "id": "3b86e1b5",
   "metadata": {},
   "outputs": [],
   "source": [
    "# Assignment Operator\n",
    "\n",
    "x = 5\n",
    "\n",
    "x += 5  # x = x + 5\n",
    "\n",
    "x -= 5  # x = x - 5\n",
    "\n",
    "x *= 5  # x = x * 5"
   ]
  },
  {
   "cell_type": "code",
   "execution_count": 59,
   "id": "805c10a0",
   "metadata": {},
   "outputs": [
    {
     "name": "stdout",
     "output_type": "stream",
     "text": [
      "False\n"
     ]
    }
   ],
   "source": [
    "# Comparison Operators in Python\n",
    "\n",
    "c = 5\n",
    "d = 6\n",
    "print(c==d)\n",
    "\n",
    "# == double equal mean equal to"
   ]
  },
  {
   "cell_type": "code",
   "execution_count": 60,
   "id": "42298e9f",
   "metadata": {},
   "outputs": [
    {
     "name": "stdout",
     "output_type": "stream",
     "text": [
      "True\n"
     ]
    }
   ],
   "source": [
    "c = 5\n",
    "d = 6\n",
    "print(c!=d)\n",
    "\n",
    "# exclamation and equal sign means not equal to"
   ]
  },
  {
   "cell_type": "code",
   "execution_count": null,
   "id": "242d4eb0",
   "metadata": {},
   "outputs": [],
   "source": [
    "# Greater than  >\n",
    "# Less Than  <\n",
    "# Greater than or equal to   >=\n",
    "# Less than or equal to    <="
   ]
  }
 ],
 "metadata": {
  "kernelspec": {
   "display_name": "Python 3 (ipykernel)",
   "language": "python",
   "name": "python3"
  },
  "language_info": {
   "codemirror_mode": {
    "name": "ipython",
    "version": 3
   },
   "file_extension": ".py",
   "mimetype": "text/x-python",
   "name": "python",
   "nbconvert_exporter": "python",
   "pygments_lexer": "ipython3",
   "version": "3.9.12"
  }
 },
 "nbformat": 4,
 "nbformat_minor": 5
}
